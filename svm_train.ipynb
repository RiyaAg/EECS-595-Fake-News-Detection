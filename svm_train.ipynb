{
 "cells": [
  {
   "cell_type": "markdown",
   "metadata": {},
   "source": [
    "# Liar Dataset\n",
    "\n",
    "Implement preprocessing functions in this notebook depending on whatever classifier you're training and just import whichever functions you need into your own model notebook."
   ]
  },
  {
   "cell_type": "markdown",
   "metadata": {},
   "source": [
    "## General Imports"
   ]
  },
  {
   "cell_type": "code",
   "execution_count": 1,
   "metadata": {},
   "outputs": [
    {
     "name": "stderr",
     "output_type": "stream",
     "text": [
      "/Users/sawanpatel/Documents/UMich-Fall-2023/EECS595/Project/env/lib/python3.11/site-packages/tqdm/auto.py:21: TqdmWarning: IProgress not found. Please update jupyter and ipywidgets. See https://ipywidgets.readthedocs.io/en/stable/user_install.html\n",
      "  from .autonotebook import tqdm as notebook_tqdm\n"
     ]
    }
   ],
   "source": [
    "from datasets import load_dataset\n",
    "import numpy as np"
   ]
  },
  {
   "cell_type": "markdown",
   "metadata": {},
   "source": [
    "Labels \\\\\n",
    "0 ~ false \\\\\n",
    "1 ~ half-true \\\\\n",
    "2 ~ mostly true \\\\\n",
    "3 ~ true \\\\\n",
    "4 ~ barely true \\\\"
   ]
  },
  {
   "cell_type": "markdown",
   "metadata": {},
   "source": [
    "## SVM Pre-processing"
   ]
  },
  {
   "cell_type": "code",
   "execution_count": 46,
   "metadata": {},
   "outputs": [],
   "source": [
    "from sklearn.metrics import accuracy_score\n",
    "from sklearn.pipeline import make_pipeline\n",
    "from sklearn.preprocessing import StandardScaler\n",
    "from sklearn.svm import SVC\n",
    "from glove_embedding import embed_glove, load_glove, retrieve_unk\n",
    "from preprocessing import set_idx"
   ]
  },
  {
   "cell_type": "code",
   "execution_count": 3,
   "metadata": {},
   "outputs": [],
   "source": [
    "svm_dataset = load_dataset('liar')"
   ]
  },
  {
   "cell_type": "markdown",
   "metadata": {},
   "source": [
    "### Objective: Train 6 SVMs ('one-to-rest') to classify a Liar instance from 0-5"
   ]
  },
  {
   "cell_type": "markdown",
   "metadata": {},
   "source": [
    "Split train/test datasets into 6 separate datasets, format labels in binary"
   ]
  },
  {
   "cell_type": "code",
   "execution_count": 30,
   "metadata": {},
   "outputs": [],
   "source": [
    "train = svm_dataset['train']\n",
    "val = svm_dataset['validation']\n",
    "test = svm_dataset['test']"
   ]
  },
  {
   "cell_type": "code",
   "execution_count": null,
   "metadata": {},
   "outputs": [],
   "source": [
    "# Set of labels in LIAR\n",
    "labels = [0, 1, 2, 3, 4, 5]\n",
    "\n",
    "train_labels = []\n",
    "val_labels = []\n",
    "test_labels = []\n",
    "\n",
    "# Create 6 binary datasets, one for each label\n",
    "for i in labels:\n",
    "    kwargs = {'idx': i}\n",
    "    train_labels.append(train.map(set_idx, fn_kwargs=kwargs)['label'])\n",
    "    val_labels.append(val.map(set_idx, fn_kwargs=kwargs)['label'])\n",
    "    test_labels.append(test.map(set_idx, fn_kwargs=kwargs)['label'])"
   ]
  },
  {
   "cell_type": "code",
   "execution_count": null,
   "metadata": {},
   "outputs": [],
   "source": [
    "# Embedding training data w/ GLOVE    \n",
    "embedding_dict = load_glove(\"glove.6B.50d.txt\")"
   ]
  },
  {
   "cell_type": "code",
   "execution_count": 28,
   "metadata": {},
   "outputs": [],
   "source": [
    "# Compute UNK embedding here as average of all embeddings in vocabulary\n",
    "unknown_embedding = retrieve_unk(embedding_dict)\n",
    "\n",
    "# Set arbitrary pad length for each sentence\n",
    "pad_len = 15\n",
    "\n",
    "# Get embedded training dataset\n",
    "train_sentences = train['statement']\n",
    "X_train = embed_glove(train_sentences, embedding_dict, pad_len, unknown_embedding)\n",
    "\n",
    "# Get embedded test dataset\n",
    "test_sentences = test['statement']\n",
    "X_test = embed_glove(test_sentences, embedding_dict, pad_len, unknown_embedding)"
   ]
  },
  {
   "cell_type": "code",
   "execution_count": 45,
   "metadata": {},
   "outputs": [
    {
     "name": "stdout",
     "output_type": "stream",
     "text": [
      "[0.8051441932969603, 0.7918939984411536, 0.8059236165237724, 0.8355416991426344, 0.8332034294621979, 0.9282930631332814]\n"
     ]
    }
   ],
   "source": [
    "# Fit SVMs\n",
    "scores = []\n",
    "\n",
    "for i in range(len(train_labels)):\n",
    "    clf = make_pipeline(StandardScaler(), SVC(gamma='auto'))\n",
    "    clf.fit(X_train, train_labels[i])\n",
    "    preds = clf.predict(X_test)\n",
    "    scores.append(accuracy_score(test_labels[i], preds))\n",
    "\n",
    "print(scores)"
   ]
  }
 ],
 "metadata": {
  "kernelspec": {
   "display_name": "env",
   "language": "python",
   "name": "python3"
  },
  "language_info": {
   "codemirror_mode": {
    "name": "ipython",
    "version": 3
   },
   "file_extension": ".py",
   "mimetype": "text/x-python",
   "name": "python",
   "nbconvert_exporter": "python",
   "pygments_lexer": "ipython3",
   "version": "3.11.5"
  }
 },
 "nbformat": 4,
 "nbformat_minor": 2
}
