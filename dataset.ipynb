{
 "cells": [
  {
   "cell_type": "markdown",
   "metadata": {},
   "source": [
    "# Liar Dataset\n",
    "\n",
    "Implement preprocessing functions in this notebook depending on whatever classifier you're training and just import whichever functions you need into your own model notebook."
   ]
  },
  {
   "cell_type": "markdown",
   "metadata": {},
   "source": [
    "## General Imports"
   ]
  },
  {
   "cell_type": "code",
   "execution_count": 1,
   "metadata": {},
   "outputs": [
    {
     "name": "stderr",
     "output_type": "stream",
     "text": [
      "/Users/sawanpatel/Documents/UMich-Fall-2023/EECS595/Project/env/lib/python3.11/site-packages/tqdm/auto.py:21: TqdmWarning: IProgress not found. Please update jupyter and ipywidgets. See https://ipywidgets.readthedocs.io/en/stable/user_install.html\n",
      "  from .autonotebook import tqdm as notebook_tqdm\n"
     ]
    }
   ],
   "source": [
    "from datasets import load_dataset"
   ]
  },
  {
   "cell_type": "markdown",
   "metadata": {},
   "source": [
    "Labels \\\\\n",
    "0 ~ false \\\\\n",
    "1 ~ half-true \\\\\n",
    "2 ~ mostly true \\\\\n",
    "3 ~ true \\\\\n",
    "4 ~ barely true \\\\"
   ]
  },
  {
   "cell_type": "markdown",
   "metadata": {},
   "source": [
    "## SVM Pre-processing"
   ]
  },
  {
   "cell_type": "code",
   "execution_count": 4,
   "metadata": {},
   "outputs": [],
   "source": [
    "from sklearn import svm\n",
    "import sklearn.model_selection as model_selection\n",
    "from sklearn.metrics import accuracy_score, f1_score\n"
   ]
  },
  {
   "cell_type": "code",
   "execution_count": 2,
   "metadata": {},
   "outputs": [],
   "source": [
    "svm_dataset = load_dataset('liar')"
   ]
  },
  {
   "cell_type": "markdown",
   "metadata": {},
   "source": [
    "### Objective: Train 5 SVMs ('one-to-rest') to classify a Liar instance from 0-4"
   ]
  },
  {
   "cell_type": "markdown",
   "metadata": {},
   "source": [
    "Split train/test datasets into 5 separate datasets, format labels in binary"
   ]
  },
  {
   "cell_type": "code",
   "execution_count": 9,
   "metadata": {},
   "outputs": [],
   "source": [
    "train = svm_dataset['train']\n",
    "test = svm_dataset['test']"
   ]
  },
  {
   "cell_type": "code",
   "execution_count": 15,
   "metadata": {},
   "outputs": [
    {
     "name": "stderr",
     "output_type": "stream",
     "text": [
      "Map: 100%|██████████| 10269/10269 [00:04<00:00, 2492.87 examples/s]\n"
     ]
    }
   ],
   "source": [
    "def set_idx(example, idx):\n",
    "    \"\"\"Replaces all instance labels with binary labels given the intended label as input.\"\"\"\n",
    "    example['label'] = (example['label'] == idx)\n",
    "    return example\n",
    "\n",
    "\n",
    "labels = [0, 1, 2, 3, 4]\n",
    "datasets = []\n",
    "for i in labels:\n",
    "    kwargs = {'idx': i}\n",
    "    datasets.append(train.map(set_idx, fn_kwargs=kwargs))"
   ]
  }
 ],
 "metadata": {
  "kernelspec": {
   "display_name": "env",
   "language": "python",
   "name": "python3"
  },
  "language_info": {
   "codemirror_mode": {
    "name": "ipython",
    "version": 3
   },
   "file_extension": ".py",
   "mimetype": "text/x-python",
   "name": "python",
   "nbconvert_exporter": "python",
   "pygments_lexer": "ipython3",
   "version": "3.11.5"
  }
 },
 "nbformat": 4,
 "nbformat_minor": 2
}
